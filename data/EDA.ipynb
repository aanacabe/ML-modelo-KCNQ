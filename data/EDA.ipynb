{
 "cells": [
  {
   "cell_type": "code",
   "execution_count": 15,
   "id": "7a4752d4-5fea-417d-aeb9-a293e1f4c9af",
   "metadata": {},
   "outputs": [],
   "source": [
    "import pandas as pd\n",
    "import numpy as np\n",
    "import matplotlib.pyplot as plt\n",
    "\n",
    "\n",
    "dataKCNQ1=pd.read_excel('KCNQ1/KCNQ1_encoded.xlsx')\n",
    "dataKCNQ2=pd.read_excel('KCNQ2/KCNQ2_encoded.xlsx')\n",
    "dataKCNQ3=pd.read_excel('KCNQ3/KCNQ3_encoded.xlsx')\n",
    "dataKCNQ4=pd.read_excel('KCNQ4/KCNQ4_encoded.xlsx')\n",
    "dataKCNQ5=pd.read_excel('KCNQ5/KCNQ5_encoded.xlsx')"
   ]
  },
  {
   "cell_type": "markdown",
   "id": "6f9e8970-5784-43a1-b18b-55b8e0b8d6fb",
   "metadata": {},
   "source": [
    "## KCNQ1 data"
   ]
  },
  {
   "cell_type": "code",
   "execution_count": 16,
   "id": "ae3c8cba-7b8f-4b20-b1f6-1137733635a6",
   "metadata": {},
   "outputs": [
    {
     "name": "stdout",
     "output_type": "stream",
     "text": [
      "<class 'pandas.core.frame.DataFrame'>\n",
      "RangeIndex: 341 entries, 0 to 340\n",
      "Data columns (total 71 columns):\n",
      " #   Column           Non-Null Count  Dtype  \n",
      "---  ------           --------------  -----  \n",
      " 0   Variation        341 non-null    object \n",
      " 1   My_Label         341 non-null    int64  \n",
      " 2   pLDDT            341 non-null    float64\n",
      " 3   d_size           341 non-null    float64\n",
      " 4   d_vol            341 non-null    float64\n",
      " 5   d_pol_e          341 non-null    float64\n",
      " 6   d_ip_e           341 non-null    float64\n",
      " 7   d_hf_e           341 non-null    float64\n",
      " 8   d_msa            341 non-null    float64\n",
      " 9   residue_conserv  341 non-null    float64\n",
      " 10  MTI_31           341 non-null    float64\n",
      " 11  Initial_A        341 non-null    int64  \n",
      " 12  Initial_C        341 non-null    int64  \n",
      " 13  Initial_D        341 non-null    int64  \n",
      " 14  Initial_E        341 non-null    int64  \n",
      " 15  Initial_F        341 non-null    int64  \n",
      " 16  Initial_G        341 non-null    int64  \n",
      " 17  Initial_H        341 non-null    int64  \n",
      " 18  Initial_I        341 non-null    int64  \n",
      " 19  Initial_K        341 non-null    int64  \n",
      " 20  Initial_L        341 non-null    int64  \n",
      " 21  Initial_M        341 non-null    int64  \n",
      " 22  Initial_N        341 non-null    int64  \n",
      " 23  Initial_P        341 non-null    int64  \n",
      " 24  Initial_Q        341 non-null    int64  \n",
      " 25  Initial_R        341 non-null    int64  \n",
      " 26  Initial_S        341 non-null    int64  \n",
      " 27  Initial_T        341 non-null    int64  \n",
      " 28  Initial_V        341 non-null    int64  \n",
      " 29  Initial_W        341 non-null    int64  \n",
      " 30  Initial_Y        341 non-null    int64  \n",
      " 31  Final_A          341 non-null    int64  \n",
      " 32  Final_C          341 non-null    int64  \n",
      " 33  Final_D          341 non-null    int64  \n",
      " 34  Final_E          341 non-null    int64  \n",
      " 35  Final_F          341 non-null    int64  \n",
      " 36  Final_G          341 non-null    int64  \n",
      " 37  Final_H          341 non-null    int64  \n",
      " 38  Final_I          341 non-null    int64  \n",
      " 39  Final_K          341 non-null    int64  \n",
      " 40  Final_L          341 non-null    int64  \n",
      " 41  Final_M          341 non-null    int64  \n",
      " 42  Final_N          341 non-null    int64  \n",
      " 43  Final_P          341 non-null    int64  \n",
      " 44  Final_Q          341 non-null    int64  \n",
      " 45  Final_R          341 non-null    int64  \n",
      " 46  Final_S          341 non-null    int64  \n",
      " 47  Final_T          341 non-null    int64  \n",
      " 48  Final_V          341 non-null    int64  \n",
      " 49  Final_W          341 non-null    int64  \n",
      " 50  Final_Y          341 non-null    int64  \n",
      " 51  coil             341 non-null    int64  \n",
      " 52  beta_strand      341 non-null    int64  \n",
      " 53  helix            341 non-null    int64  \n",
      " 54  neg_to_neg       341 non-null    int64  \n",
      " 55  neg_to_neu       341 non-null    int64  \n",
      " 56  neg_to_pos       341 non-null    int64  \n",
      " 57  neu_to_neg       341 non-null    int64  \n",
      " 58  neu_to_neu       341 non-null    int64  \n",
      " 59  neu_to_pos       341 non-null    int64  \n",
      " 60  pos_to_neg       341 non-null    int64  \n",
      " 61  pos_to_neu       341 non-null    int64  \n",
      " 62  pos_to_pos       341 non-null    int64  \n",
      " 63  np_to_np         341 non-null    int64  \n",
      " 64  np_to_p          341 non-null    int64  \n",
      " 65  p_to_np          341 non-null    int64  \n",
      " 66  p_to_p           341 non-null    int64  \n",
      " 67  a_to_a           341 non-null    int64  \n",
      " 68  a_to_na          341 non-null    int64  \n",
      " 69  na_to_a          341 non-null    int64  \n",
      " 70  na_to_na         341 non-null    int64  \n",
      "dtypes: float64(9), int64(61), object(1)\n",
      "memory usage: 189.3+ KB\n"
     ]
    }
   ],
   "source": [
    "dataKCNQ1.info()"
   ]
  },
  {
   "cell_type": "code",
   "execution_count": 17,
   "id": "a89052bc-1a98-46df-9099-e746e737730d",
   "metadata": {},
   "outputs": [
    {
     "data": {
      "text/plain": [
       "My_Label\n",
       "1    223\n",
       "0    118\n",
       "Name: count, dtype: int64"
      ]
     },
     "execution_count": 17,
     "metadata": {},
     "output_type": "execute_result"
    }
   ],
   "source": [
    "ValuesKCNQ1=dataKCNQ1.My_Label.value_counts()\n",
    "ValuesKCNQ1"
   ]
  },
  {
   "cell_type": "markdown",
   "id": "9b41fe26-da6d-4913-9952-f263758264d4",
   "metadata": {},
   "source": [
    "## KCNQ2 data"
   ]
  },
  {
   "cell_type": "code",
   "execution_count": 18,
   "id": "ea761fb3-3901-478d-9965-266d65c6add3",
   "metadata": {},
   "outputs": [
    {
     "name": "stdout",
     "output_type": "stream",
     "text": [
      "<class 'pandas.core.frame.DataFrame'>\n",
      "RangeIndex: 473 entries, 0 to 472\n",
      "Data columns (total 70 columns):\n",
      " #   Column           Non-Null Count  Dtype  \n",
      "---  ------           --------------  -----  \n",
      " 0   Variation        473 non-null    object \n",
      " 1   My_Label         473 non-null    int64  \n",
      " 2   pLDDT            473 non-null    float64\n",
      " 3   d_size           473 non-null    float64\n",
      " 4   d_vol            473 non-null    float64\n",
      " 5   d_pol_e          473 non-null    float64\n",
      " 6   d_ip_e           473 non-null    float64\n",
      " 7   d_hf_e           473 non-null    float64\n",
      " 8   d_msa            473 non-null    float64\n",
      " 9   residue_conserv  473 non-null    float64\n",
      " 10  MTI_31           473 non-null    float64\n",
      " 11  Initial_A        473 non-null    int64  \n",
      " 12  Initial_C        473 non-null    int64  \n",
      " 13  Initial_D        473 non-null    int64  \n",
      " 14  Initial_E        473 non-null    int64  \n",
      " 15  Initial_F        473 non-null    int64  \n",
      " 16  Initial_G        473 non-null    int64  \n",
      " 17  Initial_H        473 non-null    int64  \n",
      " 18  Initial_I        473 non-null    int64  \n",
      " 19  Initial_K        473 non-null    int64  \n",
      " 20  Initial_L        473 non-null    int64  \n",
      " 21  Initial_M        473 non-null    int64  \n",
      " 22  Initial_N        473 non-null    int64  \n",
      " 23  Initial_P        473 non-null    int64  \n",
      " 24  Initial_Q        473 non-null    int64  \n",
      " 25  Initial_R        473 non-null    int64  \n",
      " 26  Initial_S        473 non-null    int64  \n",
      " 27  Initial_T        473 non-null    int64  \n",
      " 28  Initial_V        473 non-null    int64  \n",
      " 29  Initial_W        473 non-null    int64  \n",
      " 30  Initial_Y        473 non-null    int64  \n",
      " 31  Final_A          473 non-null    int64  \n",
      " 32  Final_C          473 non-null    int64  \n",
      " 33  Final_D          473 non-null    int64  \n",
      " 34  Final_E          473 non-null    int64  \n",
      " 35  Final_F          473 non-null    int64  \n",
      " 36  Final_G          473 non-null    int64  \n",
      " 37  Final_H          473 non-null    int64  \n",
      " 38  Final_I          473 non-null    int64  \n",
      " 39  Final_K          473 non-null    int64  \n",
      " 40  Final_L          473 non-null    int64  \n",
      " 41  Final_M          473 non-null    int64  \n",
      " 42  Final_N          473 non-null    int64  \n",
      " 43  Final_P          473 non-null    int64  \n",
      " 44  Final_Q          473 non-null    int64  \n",
      " 45  Final_R          473 non-null    int64  \n",
      " 46  Final_S          473 non-null    int64  \n",
      " 47  Final_T          473 non-null    int64  \n",
      " 48  Final_V          473 non-null    int64  \n",
      " 49  Final_W          473 non-null    int64  \n",
      " 50  Final_Y          473 non-null    int64  \n",
      " 51  coil             473 non-null    int64  \n",
      " 52  helix            473 non-null    int64  \n",
      " 53  neg_to_neg       473 non-null    int64  \n",
      " 54  neg_to_neu       473 non-null    int64  \n",
      " 55  neg_to_pos       473 non-null    int64  \n",
      " 56  neu_to_neg       473 non-null    int64  \n",
      " 57  neu_to_neu       473 non-null    int64  \n",
      " 58  neu_to_pos       473 non-null    int64  \n",
      " 59  pos_to_neg       473 non-null    int64  \n",
      " 60  pos_to_neu       473 non-null    int64  \n",
      " 61  pos_to_pos       473 non-null    int64  \n",
      " 62  np_to_np         473 non-null    int64  \n",
      " 63  np_to_p          473 non-null    int64  \n",
      " 64  p_to_np          473 non-null    int64  \n",
      " 65  p_to_p           473 non-null    int64  \n",
      " 66  a_to_a           473 non-null    int64  \n",
      " 67  a_to_na          473 non-null    int64  \n",
      " 68  na_to_a          473 non-null    int64  \n",
      " 69  na_to_na         473 non-null    int64  \n",
      "dtypes: float64(9), int64(60), object(1)\n",
      "memory usage: 258.8+ KB\n"
     ]
    }
   ],
   "source": [
    "dataKCNQ2.info()"
   ]
  },
  {
   "cell_type": "code",
   "execution_count": 19,
   "id": "c41ca6ce-14c4-48a9-b5c3-21eedbd62477",
   "metadata": {},
   "outputs": [
    {
     "data": {
      "text/plain": [
       "My_Label\n",
       "1    352\n",
       "0    121\n",
       "Name: count, dtype: int64"
      ]
     },
     "execution_count": 19,
     "metadata": {},
     "output_type": "execute_result"
    }
   ],
   "source": [
    "ValuesKCNQ2=dataKCNQ2.My_Label.value_counts()\n",
    "ValuesKCNQ2"
   ]
  },
  {
   "cell_type": "markdown",
   "id": "c6792c22-6bdf-4d16-a42e-1fbf6536fd8f",
   "metadata": {},
   "source": [
    "## KCNQ3 data"
   ]
  },
  {
   "cell_type": "code",
   "execution_count": 20,
   "id": "c6b1cb33-879e-41d2-ac1a-844f48a9b7be",
   "metadata": {},
   "outputs": [
    {
     "name": "stdout",
     "output_type": "stream",
     "text": [
      "<class 'pandas.core.frame.DataFrame'>\n",
      "RangeIndex: 153 entries, 0 to 152\n",
      "Data columns (total 70 columns):\n",
      " #   Column           Non-Null Count  Dtype  \n",
      "---  ------           --------------  -----  \n",
      " 0   Variation        153 non-null    object \n",
      " 1   My_Label         153 non-null    int64  \n",
      " 2   pLDDT            153 non-null    float64\n",
      " 3   d_size           153 non-null    float64\n",
      " 4   d_vol            153 non-null    float64\n",
      " 5   d_pol_e          153 non-null    float64\n",
      " 6   d_ip_e           153 non-null    float64\n",
      " 7   d_hf_e           153 non-null    float64\n",
      " 8   d_msa            153 non-null    float64\n",
      " 9   residue_conserv  153 non-null    float64\n",
      " 10  MTI_31           153 non-null    float64\n",
      " 11  Initial_A        153 non-null    int64  \n",
      " 12  Initial_D        153 non-null    int64  \n",
      " 13  Initial_E        153 non-null    int64  \n",
      " 14  Initial_F        153 non-null    int64  \n",
      " 15  Initial_G        153 non-null    int64  \n",
      " 16  Initial_H        153 non-null    int64  \n",
      " 17  Initial_I        153 non-null    int64  \n",
      " 18  Initial_K        153 non-null    int64  \n",
      " 19  Initial_L        153 non-null    int64  \n",
      " 20  Initial_M        153 non-null    int64  \n",
      " 21  Initial_N        153 non-null    int64  \n",
      " 22  Initial_P        153 non-null    int64  \n",
      " 23  Initial_Q        153 non-null    int64  \n",
      " 24  Initial_R        153 non-null    int64  \n",
      " 25  Initial_S        153 non-null    int64  \n",
      " 26  Initial_T        153 non-null    int64  \n",
      " 27  Initial_V        153 non-null    int64  \n",
      " 28  Initial_W        153 non-null    int64  \n",
      " 29  Initial_Y        153 non-null    int64  \n",
      " 30  Final_A          153 non-null    int64  \n",
      " 31  Final_C          153 non-null    int64  \n",
      " 32  Final_D          153 non-null    int64  \n",
      " 33  Final_E          153 non-null    int64  \n",
      " 34  Final_F          153 non-null    int64  \n",
      " 35  Final_G          153 non-null    int64  \n",
      " 36  Final_H          153 non-null    int64  \n",
      " 37  Final_I          153 non-null    int64  \n",
      " 38  Final_K          153 non-null    int64  \n",
      " 39  Final_L          153 non-null    int64  \n",
      " 40  Final_M          153 non-null    int64  \n",
      " 41  Final_N          153 non-null    int64  \n",
      " 42  Final_P          153 non-null    int64  \n",
      " 43  Final_Q          153 non-null    int64  \n",
      " 44  Final_R          153 non-null    int64  \n",
      " 45  Final_S          153 non-null    int64  \n",
      " 46  Final_T          153 non-null    int64  \n",
      " 47  Final_V          153 non-null    int64  \n",
      " 48  Final_W          153 non-null    int64  \n",
      " 49  Final_Y          153 non-null    int64  \n",
      " 50  coil             153 non-null    int64  \n",
      " 51  beta_strand      153 non-null    int64  \n",
      " 52  helix            153 non-null    int64  \n",
      " 53  neg_to_neg       153 non-null    int64  \n",
      " 54  neg_to_neu       153 non-null    int64  \n",
      " 55  neg_to_pos       153 non-null    int64  \n",
      " 56  neu_to_neg       153 non-null    int64  \n",
      " 57  neu_to_neu       153 non-null    int64  \n",
      " 58  neu_to_pos       153 non-null    int64  \n",
      " 59  pos_to_neg       153 non-null    int64  \n",
      " 60  pos_to_neu       153 non-null    int64  \n",
      " 61  pos_to_pos       153 non-null    int64  \n",
      " 62  np_to_np         153 non-null    int64  \n",
      " 63  np_to_p          153 non-null    int64  \n",
      " 64  p_to_np          153 non-null    int64  \n",
      " 65  p_to_p           153 non-null    int64  \n",
      " 66  a_to_a           153 non-null    int64  \n",
      " 67  a_to_na          153 non-null    int64  \n",
      " 68  na_to_a          153 non-null    int64  \n",
      " 69  na_to_na         153 non-null    int64  \n",
      "dtypes: float64(9), int64(60), object(1)\n",
      "memory usage: 83.8+ KB\n"
     ]
    }
   ],
   "source": [
    "dataKCNQ3.info()"
   ]
  },
  {
   "cell_type": "code",
   "execution_count": 21,
   "id": "0819da93-b1e9-4a49-a82e-84b29f024595",
   "metadata": {},
   "outputs": [
    {
     "data": {
      "text/plain": [
       "My_Label\n",
       "0    120\n",
       "1     33\n",
       "Name: count, dtype: int64"
      ]
     },
     "execution_count": 21,
     "metadata": {},
     "output_type": "execute_result"
    }
   ],
   "source": [
    "ValuesKCNQ3=dataKCNQ3.My_Label.value_counts()\n",
    "ValuesKCNQ3"
   ]
  },
  {
   "cell_type": "markdown",
   "id": "16688185-4b14-45aa-bb30-54d5c6ac3020",
   "metadata": {},
   "source": [
    "## KCNQ4 data"
   ]
  },
  {
   "cell_type": "code",
   "execution_count": 22,
   "id": "5d000b96-3ba4-4b0f-81f8-09a146614ede",
   "metadata": {},
   "outputs": [
    {
     "name": "stdout",
     "output_type": "stream",
     "text": [
      "<class 'pandas.core.frame.DataFrame'>\n",
      "RangeIndex: 123 entries, 0 to 122\n",
      "Data columns (total 69 columns):\n",
      " #   Column           Non-Null Count  Dtype  \n",
      "---  ------           --------------  -----  \n",
      " 0   Variation        123 non-null    object \n",
      " 1   My_Label         123 non-null    int64  \n",
      " 2   pLDDT            123 non-null    float64\n",
      " 3   d_size           123 non-null    float64\n",
      " 4   d_vol            123 non-null    float64\n",
      " 5   d_pol_e          123 non-null    float64\n",
      " 6   d_ip_e           123 non-null    float64\n",
      " 7   d_hf_e           123 non-null    float64\n",
      " 8   d_msa            123 non-null    float64\n",
      " 9   residue_conserv  123 non-null    float64\n",
      " 10  MTI_31           123 non-null    float64\n",
      " 11  Initial_A        123 non-null    int64  \n",
      " 12  Initial_D        123 non-null    int64  \n",
      " 13  Initial_E        123 non-null    int64  \n",
      " 14  Initial_F        123 non-null    int64  \n",
      " 15  Initial_G        123 non-null    int64  \n",
      " 16  Initial_H        123 non-null    int64  \n",
      " 17  Initial_I        123 non-null    int64  \n",
      " 18  Initial_K        123 non-null    int64  \n",
      " 19  Initial_L        123 non-null    int64  \n",
      " 20  Initial_M        123 non-null    int64  \n",
      " 21  Initial_N        123 non-null    int64  \n",
      " 22  Initial_P        123 non-null    int64  \n",
      " 23  Initial_Q        123 non-null    int64  \n",
      " 24  Initial_R        123 non-null    int64  \n",
      " 25  Initial_S        123 non-null    int64  \n",
      " 26  Initial_T        123 non-null    int64  \n",
      " 27  Initial_V        123 non-null    int64  \n",
      " 28  Initial_W        123 non-null    int64  \n",
      " 29  Initial_Y        123 non-null    int64  \n",
      " 30  Final_A          123 non-null    int64  \n",
      " 31  Final_C          123 non-null    int64  \n",
      " 32  Final_D          123 non-null    int64  \n",
      " 33  Final_E          123 non-null    int64  \n",
      " 34  Final_F          123 non-null    int64  \n",
      " 35  Final_G          123 non-null    int64  \n",
      " 36  Final_H          123 non-null    int64  \n",
      " 37  Final_I          123 non-null    int64  \n",
      " 38  Final_K          123 non-null    int64  \n",
      " 39  Final_L          123 non-null    int64  \n",
      " 40  Final_M          123 non-null    int64  \n",
      " 41  Final_N          123 non-null    int64  \n",
      " 42  Final_P          123 non-null    int64  \n",
      " 43  Final_Q          123 non-null    int64  \n",
      " 44  Final_R          123 non-null    int64  \n",
      " 45  Final_S          123 non-null    int64  \n",
      " 46  Final_T          123 non-null    int64  \n",
      " 47  Final_V          123 non-null    int64  \n",
      " 48  Final_W          123 non-null    int64  \n",
      " 49  Final_Y          123 non-null    int64  \n",
      " 50  coil             123 non-null    int64  \n",
      " 51  helix            123 non-null    int64  \n",
      " 52  neg_to_neg       123 non-null    int64  \n",
      " 53  neg_to_neu       123 non-null    int64  \n",
      " 54  neg_to_pos       123 non-null    int64  \n",
      " 55  neu_to_neg       123 non-null    int64  \n",
      " 56  neu_to_neu       123 non-null    int64  \n",
      " 57  neu_to_pos       123 non-null    int64  \n",
      " 58  pos_to_neg       123 non-null    int64  \n",
      " 59  pos_to_neu       123 non-null    int64  \n",
      " 60  pos_to_pos       123 non-null    int64  \n",
      " 61  np_to_np         123 non-null    int64  \n",
      " 62  np_to_p          123 non-null    int64  \n",
      " 63  p_to_np          123 non-null    int64  \n",
      " 64  p_to_p           123 non-null    int64  \n",
      " 65  a_to_a           123 non-null    int64  \n",
      " 66  a_to_na          123 non-null    int64  \n",
      " 67  na_to_a          123 non-null    int64  \n",
      " 68  na_to_na         123 non-null    int64  \n",
      "dtypes: float64(9), int64(59), object(1)\n",
      "memory usage: 66.4+ KB\n"
     ]
    }
   ],
   "source": [
    "dataKCNQ4.info()"
   ]
  },
  {
   "cell_type": "code",
   "execution_count": 23,
   "id": "ed80e241-8ed7-4ac0-b49c-c61e1a875461",
   "metadata": {},
   "outputs": [
    {
     "data": {
      "text/plain": [
       "My_Label\n",
       "0    91\n",
       "1    32\n",
       "Name: count, dtype: int64"
      ]
     },
     "execution_count": 23,
     "metadata": {},
     "output_type": "execute_result"
    }
   ],
   "source": [
    "ValuesKCNQ4=dataKCNQ4.My_Label.value_counts()\n",
    "ValuesKCNQ4"
   ]
  },
  {
   "cell_type": "markdown",
   "id": "d91d3a74-2706-4a5e-aad6-24f58ca0da15",
   "metadata": {},
   "source": [
    "## KCNQ5 data"
   ]
  },
  {
   "cell_type": "code",
   "execution_count": 24,
   "id": "06a74de4-26a0-4e41-a47b-2baa7a1f2a24",
   "metadata": {},
   "outputs": [
    {
     "name": "stdout",
     "output_type": "stream",
     "text": [
      "<class 'pandas.core.frame.DataFrame'>\n",
      "RangeIndex: 152 entries, 0 to 151\n",
      "Data columns (total 70 columns):\n",
      " #   Column           Non-Null Count  Dtype  \n",
      "---  ------           --------------  -----  \n",
      " 0   Variation        152 non-null    object \n",
      " 1   My_Label         152 non-null    int64  \n",
      " 2   pLDDT            152 non-null    float64\n",
      " 3   d_size           152 non-null    float64\n",
      " 4   d_vol            152 non-null    float64\n",
      " 5   d_pol_e          152 non-null    float64\n",
      " 6   d_ip_e           152 non-null    float64\n",
      " 7   d_hf_e           152 non-null    float64\n",
      " 8   d_msa            152 non-null    float64\n",
      " 9   residue_conserv  152 non-null    float64\n",
      " 10  MTI_31           152 non-null    float64\n",
      " 11  Initial_A        152 non-null    int64  \n",
      " 12  Initial_C        152 non-null    int64  \n",
      " 13  Initial_D        152 non-null    int64  \n",
      " 14  Initial_E        152 non-null    int64  \n",
      " 15  Initial_F        152 non-null    int64  \n",
      " 16  Initial_G        152 non-null    int64  \n",
      " 17  Initial_H        152 non-null    int64  \n",
      " 18  Initial_I        152 non-null    int64  \n",
      " 19  Initial_K        152 non-null    int64  \n",
      " 20  Initial_L        152 non-null    int64  \n",
      " 21  Initial_M        152 non-null    int64  \n",
      " 22  Initial_N        152 non-null    int64  \n",
      " 23  Initial_P        152 non-null    int64  \n",
      " 24  Initial_Q        152 non-null    int64  \n",
      " 25  Initial_R        152 non-null    int64  \n",
      " 26  Initial_S        152 non-null    int64  \n",
      " 27  Initial_T        152 non-null    int64  \n",
      " 28  Initial_V        152 non-null    int64  \n",
      " 29  Initial_W        152 non-null    int64  \n",
      " 30  Initial_Y        152 non-null    int64  \n",
      " 31  Final_A          152 non-null    int64  \n",
      " 32  Final_C          152 non-null    int64  \n",
      " 33  Final_D          152 non-null    int64  \n",
      " 34  Final_E          152 non-null    int64  \n",
      " 35  Final_F          152 non-null    int64  \n",
      " 36  Final_G          152 non-null    int64  \n",
      " 37  Final_H          152 non-null    int64  \n",
      " 38  Final_I          152 non-null    int64  \n",
      " 39  Final_K          152 non-null    int64  \n",
      " 40  Final_L          152 non-null    int64  \n",
      " 41  Final_M          152 non-null    int64  \n",
      " 42  Final_N          152 non-null    int64  \n",
      " 43  Final_P          152 non-null    int64  \n",
      " 44  Final_Q          152 non-null    int64  \n",
      " 45  Final_R          152 non-null    int64  \n",
      " 46  Final_S          152 non-null    int64  \n",
      " 47  Final_T          152 non-null    int64  \n",
      " 48  Final_V          152 non-null    int64  \n",
      " 49  Final_W          152 non-null    int64  \n",
      " 50  Final_Y          152 non-null    int64  \n",
      " 51  coil             152 non-null    int64  \n",
      " 52  beta_strand      152 non-null    int64  \n",
      " 53  helix            152 non-null    int64  \n",
      " 54  neg_to_neg       152 non-null    int64  \n",
      " 55  neg_to_neu       152 non-null    int64  \n",
      " 56  neg_to_pos       152 non-null    int64  \n",
      " 57  neu_to_neg       152 non-null    int64  \n",
      " 58  neu_to_neu       152 non-null    int64  \n",
      " 59  neu_to_pos       152 non-null    int64  \n",
      " 60  pos_to_neg       152 non-null    int64  \n",
      " 61  pos_to_neu       152 non-null    int64  \n",
      " 62  pos_to_pos       152 non-null    int64  \n",
      " 63  np_to_np         152 non-null    int64  \n",
      " 64  np_to_p          152 non-null    int64  \n",
      " 65  p_to_np          152 non-null    int64  \n",
      " 66  p_to_p           152 non-null    int64  \n",
      " 67  a_to_na          152 non-null    int64  \n",
      " 68  na_to_a          152 non-null    int64  \n",
      " 69  na_to_na         152 non-null    int64  \n",
      "dtypes: float64(9), int64(60), object(1)\n",
      "memory usage: 83.3+ KB\n"
     ]
    }
   ],
   "source": [
    "dataKCNQ5.info()"
   ]
  },
  {
   "cell_type": "code",
   "execution_count": 25,
   "id": "678cff5a-ab33-4cf3-9a56-ee6c9a634913",
   "metadata": {},
   "outputs": [
    {
     "data": {
      "text/plain": [
       "My_Label\n",
       "0    129\n",
       "1     23\n",
       "Name: count, dtype: int64"
      ]
     },
     "execution_count": 25,
     "metadata": {},
     "output_type": "execute_result"
    }
   ],
   "source": [
    "ValuesKCNQ5=dataKCNQ5.My_Label.value_counts()\n",
    "ValuesKCNQ5"
   ]
  },
  {
   "cell_type": "markdown",
   "id": "7e355aae-2be5-418c-8009-28d24e285389",
   "metadata": {},
   "source": [
    "## Representación de los datos"
   ]
  },
  {
   "cell_type": "code",
   "execution_count": 26,
   "id": "57ec93cd-5e22-4787-bc94-712842ed8789",
   "metadata": {},
   "outputs": [
    {
     "data": {
      "image/png": "[encoded data removed]",
      "text/plain": [
       "<Figure size 640x480 with 1 Axes>"
      ]
     },
     "metadata": {},
     "output_type": "display_data"
    }
   ],
   "source": [
    "# Define gene names\n",
    "genes = ['KCNQ1', 'KCNQ2', 'KCNQ3', 'KCNQ4','KCNQ5']\n",
    "\n",
    "# Number of mutations for classes\n",
    "pathogenic = [ValuesKCNQ1[1], ValuesKCNQ2[1], ValuesKCNQ3[1], ValuesKCNQ4[1],ValuesKCNQ5[1]]\n",
    "benign = [ValuesKCNQ1[0], ValuesKCNQ2[0], ValuesKCNQ3[0],ValuesKCNQ4[0],ValuesKCNQ5[0]]\n",
    "bar_width = 0.35\n",
    "x = np.arange(len(genes))\n",
    "\n",
    "# Grouped Bar Plot\n",
    "plt.bar(x - bar_width/2, pathogenic, bar_width, label='Patogénicas', color='tab:red')\n",
    "plt.bar(x + bar_width/2, benign, bar_width, label='Benignas', color='tab:blue')\n",
    "\n",
    "# Adding labels and title\n",
    "plt.xlabel('Gen')\n",
    "plt.ylabel('Número de mutaciones')\n",
    "plt.title('Distribución de los datos')\n",
    "plt.xticks(x, genes)\n",
    "plt.legend()\n",
    "plt.show()"
   ]
  }
 ],
 "metadata": {
  "kernelspec": {
   "display_name": "Python 3 (ipykernel)",
   "language": "python",
   "name": "python3"
  },
  "language_info": {
   "codemirror_mode": {
    "name": "ipython",
    "version": 3
   },
   "file_extension": ".py",
   "mimetype": "text/x-python",
   "name": "python",
   "nbconvert_exporter": "python",
   "pygments_lexer": "ipython3",
   "version": "3.11.11"
  }
 },
 "nbformat": 4,
 "nbformat_minor": 5
}
